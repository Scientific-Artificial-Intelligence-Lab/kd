{
 "cells": [
  {
   "cell_type": "markdown",
   "metadata": {},
   "source": [
    "# Framework overview\n",
    "\n",
    "This notebook provides a basic overview of DISCOVER and its functionality. We will introduce the main features of the framework with a basline dataset and how to discover its symbolic expressions with an fundamental workflow."
   ]
  },
  {
   "cell_type": "markdown",
   "metadata": {},
   "source": [
    "There are two executation modes in DISCOVER for dealing with different applications. \n",
    "* Mode 1 with SymEqOptimizer\n",
    "\n",
    "The first mode is designed for discoving PDEs from high-quality data. Partial derivatives are evaluated by numerical differentiation on regular grids. DNN can be optionally utilized to smoothe available data and generate meta data to reduce the impact of noise. The introduction of the whole framework can be found in the first paper [PDF](https://journals.aps.org/prresearch/abstract/10.1103/PhysRevResearch.6.013182). GPU is not necessary since the matrix calculation is based on Numpy.\n",
    "\n",
    "* Mode 2 with Deep_SymEqOptimizer\n",
    "\n",
    "The second mode originates from a robust verison of DISCOVER, named R_DISCOVER, which is designed to handle sparse and noisy data.  A NN is utilized to fit the system response and evaluate the reward by automatic differentiation. It is trained in a PINN manner when effective physical information are discovered. This mode is more suitable for the high-noisy scenarios. The introduction of the whole framework can be found in the second paper [PDF](https://arxiv.org/ftp/arxiv/papers/2309/2309.07672.pdf). GPU resources are required to acclerate the searching process.\n"
   ]
  },
  {
   "cell_type": "code",
   "execution_count": 1,
   "metadata": {},
   "outputs": [],
   "source": [
    "\n",
    "import warnings\n",
    "import os\n",
    "os.environ['TF_CPP_MIN_LOG_LEVEL'] = '2'\n",
    "import warnings\n",
    "warnings.filterwarnings(\"ignore\", category=FutureWarning, module='numpy.*')\n",
    "warnings.filterwarnings(\"ignore\", category=UserWarning, module='tensorflow.*')\n",
    "\n",
    "from kd.model import KD_DSCV"
   ]
  },
  {
   "cell_type": "markdown",
   "metadata": {},
   "source": [
    "### 1.Load data and build model"
   ]
  },
  {
   "cell_type": "code",
   "execution_count": 2,
   "metadata": {},
   "outputs": [],
   "source": [
    "# define optimizer\n",
    "model = KD_DSCV(\n",
    "    n_samples_per_batch = 500, # Number of generated traversals by agent per batch\n",
    "    binary_operators = ['add',\"mul\", \"diff\",\"diff2\"],\n",
    "    unary_operators = ['n2'],\n",
    ")"
   ]
  },
  {
   "cell_type": "code",
   "execution_count": 3,
   "metadata": {},
   "outputs": [
    {
     "name": "stdout",
     "output_type": "stream",
     "text": [
      "-- BUILDING PRIOR START -------------\n",
      "WARNING: Skipping invalid 'InverseUnaryConstraint' with arguments {}. Reason: There are no inverse unary Token pairs in the Library.\n",
      "WARNING: Skipping invalid 'ConstConstraint' with arguments {}. Reason: Prior disabled.\n",
      "WARNING: Skipping invalid 'NoInputsConstraint' with arguments {}. Reason: Prior disabled.\n",
      "WARNING: Skipping invalid 'UniformArityPrior' with arguments {}. Reason: Prior disabled.\n",
      "LengthConstraint: Sequences have minimum length 3.\n",
      "                  Sequences have maximum length 64.\n",
      "RepeatConstraint: [add] cannot occur more than 5 times.\n",
      "TrigConstraint: [diff, diff2] cannot be a descendant of [diff, diff2].\n",
      "SoftLengthPrior: No description available.\n",
      "DiffConstraint_left: [x1] cannot be the left child of [diff, diff2].\n",
      "DiffConstraint_right: [n2, add, mul, diff, diff2, u1] cannot be the right child of [diff, diff2].\n",
      "DiffConstraint_des: [add] cannot be a descendant of [diff, diff2].\n",
      "-- BUILDING PRIOR END ---------------\n",
      "\n"
     ]
    }
   ],
   "source": [
    "# load default dataset, such as Burgers with gridded data\n",
    "model.import_inner_data(dataset='Burgers', data_type='regular')\n"
   ]
  },
  {
   "cell_type": "code",
   "execution_count": 4,
   "metadata": {},
   "outputs": [
    {
     "name": "stdout",
     "output_type": "stream",
     "text": [
      "Library:  x1,u1,add,mul,diff,diff2,n2\n"
     ]
    }
   ],
   "source": [
    "# print basic information of model and dataset\n",
    "model.info()"
   ]
  },
  {
   "cell_type": "code",
   "execution_count": 5,
   "metadata": {},
   "outputs": [],
   "source": [
    "# suport user-defined dataset\n",
    "import scipy.io as scio\n",
    "import numpy as np\n",
    "data_path = './kd/data_file/burgers.mat'\n",
    "def load_data(path):\n",
    "    data = scio.loadmat(path)\n",
    "    u=data.get(\"usol\")  # (x_shape, t_shape)\n",
    "    x=np.squeeze(data.get(\"x\")).reshape(-1,1)\n",
    "    t=np.squeeze(data.get(\"t\").reshape(-1,1))\n",
    "    return u,x,t\n",
    "u,x,t = load_data(data_path)\n",
    "model.make_outter_data(u,x,t,data_type='regular')"
   ]
  },
  {
   "cell_type": "markdown",
   "metadata": {},
   "source": [
    "### 2. Model training"
   ]
  },
  {
   "cell_type": "code",
   "execution_count": 6,
   "metadata": {},
   "outputs": [
    {
     "name": "stdout",
     "output_type": "stream",
     "text": [
      "Training epoch 1/100, current best R: 0.5679, cost time: 4.87\n",
      "\n",
      "\t** New best\n",
      "\tReward: 0.5679006611561859\n",
      "\tMSE:0.003770687129671451\n",
      "\tTraversal: mul,n2,x1,diff,n2,n2,u1,x1\n",
      "\tExpression:\n",
      "-0.0244 * mul(n2(x1),diff(n2(n2(u1)),x1))\n",
      "Current best expression is -0.0244 * mul(n2(x1),diff(n2(n2(u1)),x1)) and its reward is 0.5679006611561859\n"
     ]
    }
   ],
   "source": [
    "# single-iteration training\n",
    "step_output = model.train_one_step()\n",
    "print(f\"Current best expression is {step_output['expression']} and its reward is {step_output['r']}\")"
   ]
  },
  {
   "cell_type": "code",
   "execution_count": 7,
   "metadata": {},
   "outputs": [
    {
     "name": "stderr",
     "output_type": "stream",
     "text": [
      "Progress:   2%|█                                                     | 1/50 [00:00<00:41,  1.19it/s]"
     ]
    },
    {
     "name": "stdout",
     "output_type": "stream",
     "text": [
      "Training epoch 2/100, current best R: 0.5966, cost time: 0.84\n",
      "\n",
      "\t** New best\n",
      "\tReward: 0.5965950680870147\n",
      "\tMSE:0.0028189798784921\n",
      "\tTraversal: add,diff,n2,n2,u1,x1,diff2,u1,x1\n",
      "\tExpression:\n",
      "-0.3136 * diff(n2(n2(u1)),x1) + 0.0393 * diff2(u1,x1)\n"
     ]
    },
    {
     "name": "stderr",
     "output_type": "stream",
     "text": [
      "Progress:   8%|████▎                                                 | 4/50 [00:03<00:44,  1.03it/s]"
     ]
    },
    {
     "name": "stdout",
     "output_type": "stream",
     "text": [
      "Training epoch 5/100, current best R: 0.9520, cost time: 0.93\n",
      "\n",
      "\t** New best\n",
      "\tReward: 0.951975704788587\n",
      "\tMSE:5.914983969248236e-06\n",
      "\tTraversal: add,diff,n2,u1,x1,diff2,u1,x1\n",
      "\tExpression:\n",
      "-0.5002 * diff(n2(u1),x1) + 0.0984 * diff2(u1,x1)\n"
     ]
    },
    {
     "name": "stderr",
     "output_type": "stream",
     "text": [
      "Progress:  18%|█████████▋                                            | 9/50 [00:07<00:31,  1.30it/s]"
     ]
    },
    {
     "name": "stdout",
     "output_type": "stream",
     "text": [
      "Training epoch 10/100, current best R: 0.9520, cost time: 0.69\n"
     ]
    },
    {
     "name": "stderr",
     "output_type": "stream",
     "text": [
      "Progress:  38%|████████████████████▏                                | 19/50 [00:15<00:23,  1.33it/s]"
     ]
    },
    {
     "name": "stdout",
     "output_type": "stream",
     "text": [
      "Training epoch 20/100, current best R: 0.9520, cost time: 0.74\n"
     ]
    },
    {
     "name": "stderr",
     "output_type": "stream",
     "text": [
      "Progress:  58%|██████████████████████████████▋                      | 29/50 [00:22<00:15,  1.37it/s]"
     ]
    },
    {
     "name": "stdout",
     "output_type": "stream",
     "text": [
      "Training epoch 30/100, current best R: 0.9520, cost time: 0.72\n"
     ]
    },
    {
     "name": "stderr",
     "output_type": "stream",
     "text": [
      "Progress:  78%|█████████████████████████████████████████▎           | 39/50 [00:30<00:07,  1.40it/s]"
     ]
    },
    {
     "name": "stdout",
     "output_type": "stream",
     "text": [
      "Training epoch 40/100, current best R: 0.9520, cost time: 0.69\n"
     ]
    },
    {
     "name": "stderr",
     "output_type": "stream",
     "text": [
      "Progress:  98%|███████████████████████████████████████████████████▉ | 49/50 [00:37<00:00,  1.29it/s]"
     ]
    },
    {
     "name": "stdout",
     "output_type": "stream",
     "text": [
      "Training epoch 50/100, current best R: 0.9520, cost time: 0.80\n"
     ]
    },
    {
     "name": "stderr",
     "output_type": "stream",
     "text": [
      "Progress: 100%|█████████████████████████████████████████████████████| 50/50 [00:38<00:00,  1.31it/s]"
     ]
    },
    {
     "name": "stdout",
     "output_type": "stream",
     "text": [
      "-- Searching End ------------------\n",
      "Best expression is -0.5002 * diff(n2(u1),x1) + 0.0984 * diff2(u1,x1) and its reward is 0.951975704788587\n"
     ]
    },
    {
     "name": "stderr",
     "output_type": "stream",
     "text": [
      "\n"
     ]
    }
   ],
   "source": [
    "# training with defined iterations\n",
    "# support continual training with model.train()\n",
    "output = model.train(n_epochs=50)\n",
    "print(f\"Best expression is {output['expression']} and its reward is {output['r']}\")"
   ]
  },
  {
   "cell_type": "markdown",
   "metadata": {},
   "source": [
    "### 3. Ouput the expression in priorit queue (default: Top 10)"
   ]
  },
  {
   "cell_type": "code",
   "execution_count": 8,
   "metadata": {},
   "outputs": [
    {
     "name": "stdout",
     "output_type": "stream",
     "text": [
      "\n",
      "Top 0 result:\n",
      "\tReward: 0.951975704788587\n",
      "\tMSE:5.914983969248237e-06\n",
      "\tTraversal: add,diff2,u1,x1,diff,n2,u1,x1\n",
      "\tExpression:\n",
      "0.0984 * diff2(u1,x1) + -0.5002 * diff(n2(u1),x1)\n",
      "\n",
      "Top 1 result:\n",
      "\tReward: 0.951975704788587\n",
      "\tMSE:5.914983969248237e-06\n",
      "\tTraversal: add,diff2,u1,x1,diff,mul,u1,u1,x1\n",
      "\tExpression:\n",
      "0.0984 * diff2(u1,x1) + -0.5002 * diff(mul(u1,u1),x1)\n",
      "\n",
      "Top 2 result:\n",
      "\tReward: 0.951975704788587\n",
      "\tMSE:5.914983969248236e-06\n",
      "\tTraversal: add,diff,n2,u1,x1,diff2,u1,x1\n",
      "\tExpression:\n",
      "-0.5002 * diff(n2(u1),x1) + 0.0984 * diff2(u1,x1)\n",
      "\n",
      "Top 3 result:\n",
      "\tReward: 0.9427449589571768\n",
      "\tMSE:5.704809497430445e-06\n",
      "\tTraversal: add,u1,add,diff2,u1,x1,diff,mul,u1,u1,x1\n",
      "\tExpression:\n",
      "-0.0009 * u1 + 0.0981 * diff2(u1,x1) + -0.4989 * diff(mul(u1,u1),x1)\n",
      "\n",
      "Top 4 result:\n",
      "\tReward: 0.6274323224742858\n",
      "\tMSE:0.0022791887734717954\n",
      "\tTraversal: mul,diff,n2,x1,x1,diff,mul,u1,mul,u1,u1,x1\n",
      "\tExpression:\n",
      "0.0638 * mul(diff(n2(x1),x1),diff(mul(u1,mul(u1,u1)),x1))\n",
      "\n",
      "Top 5 result:\n",
      "\tReward: 0.6274323224742858\n",
      "\tMSE:0.0022791887734717954\n",
      "\tTraversal: mul,diff,mul,n2,u1,u1,x1,x1\n",
      "\tExpression:\n",
      "0.1275 * mul(diff(mul(n2(u1),u1),x1),x1)\n",
      "\n",
      "Top 6 result:\n",
      "\tReward: 0.6274323224742858\n",
      "\tMSE:0.0022791887734717954\n",
      "\tTraversal: mul,x1,diff,mul,u1,n2,u1,x1\n",
      "\tExpression:\n",
      "0.1275 * mul(x1,diff(mul(u1,n2(u1)),x1))\n",
      "\n",
      "Top 7 result:\n",
      "\tReward: 0.6273358130584259\n",
      "\tMSE:0.002281103987062063\n",
      "\tTraversal: mul,mul,diff,n2,u1,x1,x1,u1\n",
      "\tExpression:\n",
      "0.1912 * mul(mul(diff(n2(u1),x1),x1),u1)\n",
      "\n",
      "Top 8 result:\n",
      "\tReward: 0.6273358130584259\n",
      "\tMSE:0.002281103987062063\n",
      "\tTraversal: mul,diff,n2,u1,x1,mul,x1,u1\n",
      "\tExpression:\n",
      "0.1912 * mul(diff(n2(u1),x1),mul(x1,u1))\n",
      "\n",
      "Top 9 result:\n",
      "\tReward: 0.6273358130584259\n",
      "\tMSE:0.002281103987062063\n",
      "\tTraversal: mul,mul,u1,x1,diff,n2,u1,x1\n",
      "\tExpression:\n",
      "0.1912 * mul(mul(u1,x1),diff(n2(u1),x1))\n"
     ]
    }
   ],
   "source": [
    "model.print_pq()\n",
    "#mannually select the finally result"
   ]
  },
  {
   "cell_type": "markdown",
   "metadata": {},
   "source": [
    "### 4. Visulization of results"
   ]
  },
  {
   "cell_type": "code",
   "execution_count": null,
   "metadata": {},
   "outputs": [],
   "source": [
    "# plot the tree structure of the best expression\n",
    "graph = model.plot(fig_type ='tree')\n",
    "graph"
   ]
  },
  {
   "cell_type": "code",
   "execution_count": null,
   "metadata": {},
   "outputs": [
    {
     "name": "stderr",
     "output_type": "stream",
     "text": [
      "2024-10-17 20:54:33,202-matplotlib.font_manager-WARNING-findfont: Font family ['Arial'] not found. Falling back to DejaVu Sans.\n",
      "2024-10-17 20:54:33,212-matplotlib.font_manager-WARNING-findfont: Font family ['Arial'] not found. Falling back to DejaVu Sans.\n"
     ]
    },
    {
     "data": {
      "image/png": "[encoded data removed]",
      "text/plain": [
       "<Figure size 500x300 with 1 Axes>"
      ]
     },
     "metadata": {},
     "output_type": "display_data"
    }
   ],
   "source": [
    "# Plot the evolution process\n",
    "model.plot(fig_type='evolution')"
   ]
  },
  {
   "cell_type": "code",
   "execution_count": null,
   "metadata": {},
   "outputs": [
    {
     "data": {
      "image/png": "[encoded data removed]",
      "text/plain": [
       "<Figure size 500x300 with 2 Axes>"
      ]
     },
     "metadata": {},
     "output_type": "display_data"
    }
   ],
   "source": [
    "# Plot the density distribution\n",
    "model.plot(fig_type='density')"
   ]
  },
  {
   "cell_type": "code",
   "execution_count": null,
   "metadata": {},
   "outputs": [
    {
     "data": {
      "image/png": "[encoded data removed]",
      "text/plain": [
       "<Figure size 500x300 with 1 Axes>"
      ]
     },
     "metadata": {},
     "output_type": "display_data"
    }
   ],
   "source": [
    "epoches = [10,30,50] # plot the reward distribution of given epoches\n",
    "model.plot(fig_type='density',epoches=epoches)"
   ]
  },
  {
   "cell_type": "markdown",
   "metadata": {},
   "source": [
    "# Mode 2 Deep_SymEqOptimizer"
   ]
  },
  {
   "cell_type": "markdown",
   "metadata": {},
   "source": [
    "### 1.Load data and build model"
   ]
  },
  {
   "cell_type": "code",
   "execution_count": 1,
   "metadata": {},
   "outputs": [],
   "source": [
    "import warnings\n",
    "import os\n",
    "import numpy as np\n",
    "import scipy\n",
    "os.environ['TF_CPP_MIN_LOG_LEVEL'] = '2'\n",
    "import warnings\n",
    "warnings.filterwarnings(\"ignore\", category=FutureWarning, module='numpy.*')\n",
    "warnings.filterwarnings(\"ignore\", category=UserWarning, module='tensorflow.*')\n",
    "\n",
    "from kd.model import KD_DSCV_Pinn\n"
   ]
  },
  {
   "cell_type": "code",
   "execution_count": 2,
   "metadata": {},
   "outputs": [],
   "source": [
    "# define optimizer\n",
    "model = KD_DSCV_Pinn(\n",
    "    n_samples_per_batch = 1000, # Number of generated traversals by agent per batch\n",
    "    binary_operators = [\"add_t\", \"mul_t\", \"div_t\", \"diff_t\",\"diff2_t\",],\n",
    "    unary_operators = ['n2_t'],\n",
    ")\n",
    "\n"
   ]
  },
  {
   "cell_type": "code",
   "execution_count": 3,
   "metadata": {},
   "outputs": [
    {
     "name": "stdout",
     "output_type": "stream",
     "text": [
      "random sample number: 2585 \n"
     ]
    }
   ],
   "source": [
    "# import outside dataset\n",
    "np.random.seed(42)\n",
    "def prepare_data():\n",
    "    \n",
    "    data = scipy.io.loadmat('./kd/data_file/burgers2.mat')\n",
    "    t = np.real(data['t'].flatten()[:,None])\n",
    "    x = np.real(data['x'].flatten()[:,None])\n",
    "    Exact = np.real(data['usol']).T  # t first\n",
    "    X, T = np.meshgrid(x,t)\n",
    "\n",
    "    X_star = np.hstack((X.flatten()[:,None], T.flatten()[:,None]))\n",
    "    u_star = Exact.flatten()[:,None]              \n",
    "\n",
    "    # Doman bounds\n",
    "    lb = X_star.min(0)\n",
    "    ub = X_star.max(0) \n",
    "\n",
    "    x_len = len(x)\n",
    "    total_num = X_star.shape[0]\n",
    "    sample_num = int(total_num*0.1)\n",
    "    print(f\"random sample number: {sample_num} \")\n",
    "    ID = np.random.choice(total_num, sample_num, replace = False)\n",
    "    X_u_meas = X_star[ID,:]\n",
    "    u_meas = u_star[ID,:]  \n",
    "    return X_u_meas,u_meas, lb,ub\n",
    "\n",
    "x,y,lb,ub = prepare_data()"
   ]
  },
  {
   "cell_type": "markdown",
   "metadata": {},
   "source": [
    "## 2. Model train"
   ]
  },
  {
   "cell_type": "code",
   "execution_count": 4,
   "metadata": {},
   "outputs": [
    {
     "name": "stderr",
     "output_type": "stream",
     "text": [
      "2024-11-23 20:42:04,097-root-INFO-ANN(\n",
      "  (input_layer): Linear(in_features=2, out_features=20, bias=True)\n",
      "  (mid_linear): ModuleList(\n",
      "    (0-6): 7 x Linear(in_features=20, out_features=20, bias=True)\n",
      "  )\n",
      "  (out_layer): Linear(in_features=20, out_features=1, bias=True)\n",
      ")\n",
      "2024-11-23 20:42:04,099-root-INFO-Total params are 3021\n"
     ]
    },
    {
     "name": "stdout",
     "output_type": "stream",
     "text": [
      "-- BUILDING PRIOR START -------------\n",
      "WARNING: Skipping invalid 'InverseUnaryConstraint' with arguments {}. Reason: There are no inverse unary Token pairs in the Library.\n",
      "WARNING: Skipping invalid 'ConstConstraint' with arguments {}. Reason: Prior disabled.\n",
      "WARNING: Skipping invalid 'NoInputsConstraint' with arguments {}. Reason: Prior disabled.\n",
      "WARNING: Skipping invalid 'UniformArityPrior' with arguments {}. Reason: Prior disabled.\n",
      "LengthConstraint: Sequences have minimum length 3.\n",
      "                  Sequences have maximum length 64.\n",
      "RepeatConstraint: [add_t] cannot occur more than 5 times.\n",
      "TrigConstraint: [diff_t, diff2_t] cannot be a descendant of [diff_t, diff2_t].\n",
      "SoftLengthPrior: No description available.\n",
      "DiffConstraint_left: [x1] cannot be the left child of [diff_t, diff2_t].\n",
      "DiffConstraint_right: [n2_t, add_t, mul_t, div_t, diff_t, diff2_t, u1] cannot be the right child of [diff_t, diff2_t].\n",
      "DiffConstraint_des: [add_t] cannot be a descendant of [diff_t, diff2_t].\n",
      "-- BUILDING PRIOR END ---------------\n",
      "\n",
      "WARNING: max_length (30) will be overridden by value from LengthConstraint (64).\n",
      "Using device: cpu\n",
      "NN evaluator training with data\n"
     ]
    },
    {
     "name": "stderr",
     "output_type": "stream",
     "text": [
      "2024-11-23 20:42:09,744-root-INFO-epoch: 500, loss_u: 9.946439968189225e-05 , loss_val:0.00011534936493262649\n",
      "2024-11-23 20:42:15,812-root-INFO-epoch: 1000, loss_u: 1.8434046069160104e-05 , loss_val:2.6788489776663482e-05\n",
      "2024-11-23 20:42:20,988-root-INFO-epoch: 1500, loss_u: 9.229307579516899e-06 , loss_val:1.5635532690794207e-05\n",
      "2024-11-23 20:42:26,808-root-INFO-epoch: 2000, loss_u: 5.21548872711719e-06 , loss_val:1.052089919539867e-05\n",
      "2024-11-23 20:42:31,653-root-INFO-epoch: 2500, loss_u: 3.3915493986569345e-06 , loss_val:7.776778147672303e-06\n",
      "2024-11-23 20:42:37,243-root-INFO-epoch: 3000, loss_u: 2.3230561509990366e-06 , loss_val:5.764582056144718e-06\n",
      "2024-11-23 20:42:41,531-root-INFO-epoch: 3500, loss_u: 1.6956282706814818e-06 , loss_val:4.433052708918694e-06\n",
      "2024-11-23 20:42:46,004-root-INFO-epoch: 4000, loss_u: 1.2765499377564993e-06 , loss_val:3.4255360787938116e-06\n",
      "2024-11-23 20:42:51,581-root-INFO-epoch: 4500, loss_u: 1.9869912648573518e-06 , loss_val:4.026646365673514e-06\n",
      "2024-11-23 20:42:56,151-root-INFO-epoch: 5000, loss_u: 9.991331353376154e-07 , loss_val:2.3623038032383192e-06\n",
      "2024-11-23 20:43:00,536-root-INFO-epoch: 5500, loss_u: 6.18907733951346e-07 , loss_val:1.792424768609635e-06\n",
      "2024-11-23 20:43:05,232-root-INFO-epoch: 6000, loss_u: 5.055961196376302e-07 , loss_val:1.5127526467040298e-06\n",
      "2024-11-23 20:43:10,187-root-INFO-epoch: 6500, loss_u: 5.497980168911454e-07 , loss_val:1.4935368426449713e-06\n",
      "2024-11-23 20:43:14,637-root-INFO-epoch: 7000, loss_u: 3.5957663158114883e-07 , loss_val:1.1073691439378308e-06\n",
      "2024-11-23 20:43:19,162-root-INFO-epoch: 7500, loss_u: 3.2340693678634125e-07 , loss_val:1.0111159554071492e-06\n",
      "2024-11-23 20:43:23,898-root-INFO-epoch: 8000, loss_u: 2.945863343484234e-06 , loss_val:3.657962452052743e-06\n",
      "2024-11-23 20:43:27,985-root-INFO-epoch: 8500, loss_u: 3.908936605512281e-07 , loss_val:9.9590499758051e-07\n",
      "2024-11-23 20:43:32,591-root-INFO-epoch: 9000, loss_u: 2.5585183038856485e-07 , loss_val:8.126219199766638e-07\n",
      "2024-11-23 20:43:36,548-root-INFO-epoch: 9500, loss_u: 4.1377079469384626e-06 , loss_val:4.715882823802531e-06\n",
      "2024-11-23 20:43:40,698-root-INFO-epoch: 10000, loss_u: 3.702604658428754e-07 , loss_val:8.976257390713727e-07\n",
      "2024-11-23 20:43:44,926-root-INFO-epoch: 10500, loss_u: 4.4135532561995205e-07 , loss_val:9.645082172937691e-07\n",
      "2024-11-23 20:43:48,922-root-INFO-epoch: 11000, loss_u: 2.1788686410673108e-07 , loss_val:7.015977416813257e-07\n",
      "2024-11-23 20:43:52,924-root-INFO-epoch: 11500, loss_u: 2.0623868124403089e-07 , loss_val:6.716663847328164e-07\n",
      "2024-11-23 20:43:57,161-root-INFO-epoch: 12000, loss_u: 2.001133196927185e-07 , loss_val:6.495968705166888e-07\n",
      "2024-11-23 20:44:01,246-root-INFO-epoch: 12500, loss_u: 2.4289973225677386e-05 , loss_val:2.0618277631001547e-05\n",
      "2024-11-23 20:44:05,607-root-INFO-epoch: 13000, loss_u: 1.000087650027126e-06 , loss_val:1.4228234022084507e-06\n",
      "2024-11-23 20:44:09,181-root-INFO-stop training at epoch: 13488, loss_u: 1.8361534159794246e-07 , loss_val:5.972366921014327e-07\n"
     ]
    },
    {
     "name": "stdout",
     "output_type": "stream",
     "text": [
      "generating metadata\n",
      "The No.0 pde discovery process\n"
     ]
    },
    {
     "name": "stderr",
     "output_type": "stream",
     "text": [
      "Progress:   5%|██▋                                                   | 1/20 [00:17<05:24, 17.07s/it]"
     ]
    },
    {
     "name": "stdout",
     "output_type": "stream",
     "text": [
      "Training epoch 2/20, current best R: 0.7427, cost time: 16.98\n",
      "\n",
      "\t** New best\n",
      "\tReward: 0.7427424424905452\n",
      "\tMSE:0.00034209436853416264\n",
      "\tTraversal: add_t,add_t,diff_t,n2_t,u1,x1,add_t,diff_t,u1,x1,mul_t,diff2_t,mul_t,u1,mul_t,u1,u1,x1,u1,u1\n",
      "\tExpression:\n",
      "-0.2494 * diff_t(n2_t(u1),x1) + -0.1820 * diff_t(u1,x1) + 0.0476 * mul_t(diff2_t(mul_t(u1,mul_t(u1,u1)),x1),u1) + -0.0384 * u1\n"
     ]
    },
    {
     "name": "stderr",
     "output_type": "stream",
     "text": [
      "Progress:  20%|██████████▊                                           | 4/20 [00:51<03:18, 12.41s/it]"
     ]
    },
    {
     "name": "stdout",
     "output_type": "stream",
     "text": [
      "Training epoch 5/20, current best R: 0.9634, cost time: 12.38\n",
      "\n",
      "\t** New best\n",
      "\tReward: 0.9633658455291237\n",
      "\tMSE:1.1920421911781887e-06\n",
      "\tTraversal: add_t,diff2_t,u1,x1,diff_t,n2_t,u1,x1\n",
      "\tExpression:\n",
      "0.1000 * diff2_t(u1,x1) + -0.4998 * diff_t(n2_t(u1),x1)\n"
     ]
    },
    {
     "name": "stderr",
     "output_type": "stream",
     "text": [
      "Progress:  45%|████████████████████████▎                             | 9/20 [01:43<01:54, 10.39s/it]"
     ]
    },
    {
     "name": "stdout",
     "output_type": "stream",
     "text": [
      "Training epoch 10/20, current best R: 0.9634, cost time: 9.03\n"
     ]
    },
    {
     "name": "stderr",
     "output_type": "stream",
     "text": [
      "Progress:  70%|█████████████████████████████████████                | 14/20 [02:40<01:08, 11.39s/it]"
     ]
    }
   ],
   "source": [
    "step_output = model.fit(x,y,[lb,ub],n_epochs=20)\n"
   ]
  },
  {
   "cell_type": "code",
   "execution_count": null,
   "metadata": {},
   "outputs": [],
   "source": [
    "print(f\"Current best expression is {step_output['expression']} and its reward is {step_output['r']}\")"
   ]
  }
 ],
 "metadata": {
  "kernelspec": {
   "display_name": "subgrid",
   "language": "python",
   "name": "subgrid"
  },
  "language_info": {
   "codemirror_mode": {
    "name": "ipython",
    "version": 3
   },
   "file_extension": ".py",
   "mimetype": "text/x-python",
   "name": "python",
   "nbconvert_exporter": "python",
   "pygments_lexer": "ipython3",
   "version": "3.8.16"
  }
 },
 "nbformat": 4,
 "nbformat_minor": 2
}
