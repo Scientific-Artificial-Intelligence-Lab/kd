{
 "cells": [
  {
   "cell_type": "markdown",
   "id": "3deca6c6",
   "metadata": {},
   "source": [
    "## Example of running DeepRL\n",
    "\n"
   ]
  },
  {
   "cell_type": "markdown",
   "id": "058c44fd",
   "metadata": {},
   "source": [
    "This notebook demonstrates how to use the `DeepRL` library to discover the governing partial differential equation (PDE) from data. We will use data generated from the Burgers' equation, initialize and train the model, and then visualize and analyze the results using the `deeprl_viz` toolkit."
   ]
  },
  {
   "cell_type": "code",
   "execution_count": 1,
   "id": "d0c7bec6",
   "metadata": {},
   "outputs": [],
   "source": [
    "import os\n",
    "import sys\n",
    "import numpy as np\n",
    "\n",
    "current_dir = os.getcwd()\n",
    "kd_main_dir = os.path.abspath(os.path.join(current_dir, \"..\"))\n",
    "sys.path.append(kd_main_dir)\n",
    "# Since the juppter's kernel might be running in a different directory\n",
    "os.chdir(kd_main_dir) \n",
    "\n",
    "import scipy\n",
    "os.environ['TF_CPP_MIN_LOG_LEVEL'] = '2'\n",
    "import warnings\n",
    "warnings.filterwarnings(\"ignore\", category=FutureWarning, module='numpy.*')\n",
    "warnings.filterwarnings(\"ignore\", category=UserWarning, module='tensorflow.*')\n",
    "from kd.model import DeepRL_Pinn\n",
    "from kd.viz.discover_eq2latex import discover_program_to_latex \n",
    "from kd.viz.equation_renderer import render_latex_to_image\n",
    "from kd.viz.deeprl_viz import *\n"
   ]
  },
  {
   "cell_type": "markdown",
   "id": "3292726e",
   "metadata": {},
   "source": [
    "## 1. Load and prepare data"
   ]
  },
  {
   "cell_type": "markdown",
   "id": "fe2abcf4",
   "metadata": {},
   "source": [
    "We begin by loading the dataset for the Burgers' equation from a `.mat` file. The data consists of the solution $u(x, t)$ on a spatiotemporal grid. The `prepare_data` function handles loading, reshaping the data into coordinate pairs `(x, t)` and corresponding solution values `u`, and defining the domain bounds.\n",
    "\n",
    "For this demonstration, the `DeepRL` model will use the full, regular grid data provided by the `import_inner_data` method for the 'Burgers' dataset."
   ]
  },
  {
   "cell_type": "code",
   "execution_count": 2,
   "id": "0de5b4b5",
   "metadata": {},
   "outputs": [
    {
     "name": "stdout",
     "output_type": "stream",
     "text": [
      "random sample number: 2585 \n"
     ]
    }
   ],
   "source": [
    "def prepare_data():\n",
    "    \n",
    "    data = scipy.io.loadmat('./kd/data_file/burgers2.mat')\n",
    "    t = np.real(data['t'].flatten()[:,None])\n",
    "    x = np.real(data['x'].flatten()[:,None])\n",
    "    Exact = np.real(data['usol']).T  # t first\n",
    "    X, T = np.meshgrid(x,t)\n",
    "\n",
    "    X_star = np.hstack((X.flatten()[:,None], T.flatten()[:,None]))\n",
    "    u_star = Exact.flatten()[:,None]              \n",
    "\n",
    "    # Doman bounds\n",
    "    lb = X_star.min(0)\n",
    "    ub = X_star.max(0) \n",
    "\n",
    "    x_len = len(x)\n",
    "    total_num = X_star.shape[0]\n",
    "    sample_num = int(total_num*0.1)\n",
    "    print(f\"random sample number: {sample_num} \")\n",
    "    ID = np.random.choice(total_num, sample_num, replace = False)\n",
    "    X_u_meas = X_star[ID,:]\n",
    "    u_meas = u_star[ID,:]  \n",
    "    return X_u_meas,u_meas, lb,ub\n",
    "\n",
    "x,y,lb,ub = prepare_data()\n",
    "\n",
    "model = DeepRL_Pinn(\n",
    "    n_samples_per_batch = 1000, # Number of generated traversals by agent per batch\n",
    "    binary_operators = [\"add_t\", \"mul_t\", \"div_t\", \"diff_t\",\"diff2_t\",],\n",
    "    unary_operators = ['n2_t'],\n",
    ")\n",
    "np.random.seed(42)"
   ]
  },
  {
   "cell_type": "markdown",
   "id": "002a3067",
   "metadata": {},
   "source": [
    "# 2. Train the model"
   ]
  },
  {
   "cell_type": "code",
   "execution_count": null,
   "id": "f6bd5d88",
   "metadata": {},
   "outputs": [
    {
     "name": "stdout",
     "output_type": "stream",
     "text": [
      "-- BUILDING PRIOR START -------------\n",
      "WARNING: Skipping invalid 'InverseUnaryConstraint' with arguments {}. Reason: There are no inverse unary Token pairs in the Library.\n",
      "WARNING: Skipping invalid 'ConstConstraint' with arguments {}. Reason: Prior disabled.\n",
      "WARNING: Skipping invalid 'NoInputsConstraint' with arguments {}. Reason: Prior disabled.\n",
      "WARNING: Skipping invalid 'UniformArityPrior' with arguments {}. Reason: Prior disabled.\n",
      "LengthConstraint: Sequences have minimum length 3.\n",
      "                  Sequences have maximum length 64.\n",
      "RepeatConstraint: [add_t] cannot occur more than 5 times.\n",
      "TrigConstraint: [diff_t, diff2_t] cannot be a descendant of [diff_t, diff2_t].\n",
      "SoftLengthPrior: No description available.\n",
      "DiffConstraint_left: [x1] cannot be the left child of [diff_t, diff2_t].\n",
      "DiffConstraint_right: [n2_t, add_t, mul_t, div_t, diff_t, diff2_t, u1] cannot be the right child of [diff_t, diff2_t].\n",
      "DiffConstraint_des: [add_t] cannot be a descendant of [diff_t, diff2_t].\n",
      "-- BUILDING PRIOR END ---------------\n",
      "\n",
      "WARNING: max_length (30) will be overridden by value from LengthConstraint (64).\n"
     ]
    },
    {
     "name": "stderr",
     "output_type": "stream",
     "text": [
      "2025-06-14 09:08:05,288-root-INFO-ANN(\n",
      "  (input_layer): Linear(in_features=2, out_features=20, bias=True)\n",
      "  (mid_linear): ModuleList(\n",
      "    (0-6): 7 x Linear(in_features=20, out_features=20, bias=True)\n",
      "  )\n",
      "  (out_layer): Linear(in_features=20, out_features=1, bias=True)\n",
      ")\n",
      "2025-06-14 09:08:05,288-root-INFO-Total params are 3021\n"
     ]
    },
    {
     "name": "stdout",
     "output_type": "stream",
     "text": [
      "Using device: cpu\n",
      "NN evaluator training with data\n"
     ]
    },
    {
     "name": "stderr",
     "output_type": "stream",
     "text": [
      "2025-06-14 09:08:07,154-root-INFO-epoch: 500, loss_u: 0.00010991461749654263 , loss_val:0.00010436950833536685\n",
      "2025-06-14 09:08:08,798-root-INFO-epoch: 1000, loss_u: 1.8108647054759786e-05 , loss_val:2.0109209799556993e-05\n",
      "2025-06-14 09:08:10,663-root-INFO-epoch: 1500, loss_u: 1.013424298434984e-05 , loss_val:1.1639052900136448e-05\n",
      "2025-06-14 09:08:12,434-root-INFO-epoch: 2000, loss_u: 4.209046437608777e-06 , loss_val:5.040526048105676e-06\n",
      "2025-06-14 09:08:14,082-root-INFO-epoch: 2500, loss_u: 2.960152642117464e-06 , loss_val:3.2973950965242693e-06\n"
     ]
    }
   ],
   "source": [
    "step_output = model.fit(x, y, [lb,ub])\n",
    "\n",
    "print(f\"Current best expression is {step_output['expression']} and its reward is {step_output['r']}\")"
   ]
  },
  {
   "cell_type": "markdown",
   "id": "59950c2e",
   "metadata": {},
   "source": [
    "# 3. Visualization"
   ]
  },
  {
   "cell_type": "markdown",
   "id": "36c96ded",
   "metadata": {},
   "source": [
    "### 3.1 Discovered Equation and Expression Tree\n",
    "\n",
    "The best program discovered by the model can be visualized both as a rendered LaTeX equation for clarity and as a symbolic expression tree. The tree shows the hierarchical structure of the equation, with operators as parent nodes and their arguments as children. This helps in understanding the composition of the discovered PDE."
   ]
  },
  {
   "cell_type": "code",
   "execution_count": null,
   "id": "4a9833a8",
   "metadata": {},
   "outputs": [],
   "source": [
    "render_latex_to_image(discover_program_to_latex(step_output['program']))"
   ]
  },
  {
   "cell_type": "code",
   "execution_count": null,
   "id": "ea7b946c",
   "metadata": {},
   "outputs": [],
   "source": [
    "plot_expression_tree(model)"
   ]
  },
  {
   "cell_type": "markdown",
   "id": "f5573933",
   "metadata": {},
   "source": [
    "### 3.2 Training Diagnostics\n",
    "\n",
    "These plots help diagnose the training process itself:\n",
    "\n",
    "* **Density Plot:** This plot shows the distribution of rewards for all programs sampled at different stages of training (e.g., epochs 10, 30, 50). It helps visualize how the population of candidate solutions converges towards the high-reward region.\n",
    "* **Evolution Plot:** This plot shows the evolution of rewards for the programs sampled in each training epoch. We can see how the agent improves over time, consistently finding programs with higher rewards as training progresses.\n"
   ]
  },
  {
   "cell_type": "code",
   "execution_count": null,
   "id": "fe253938",
   "metadata": {},
   "outputs": [],
   "source": [
    "plot_density(model)\n",
    "# plot_density(model, epoches = [10,30,50])"
   ]
  },
  {
   "cell_type": "code",
   "execution_count": null,
   "id": "e079fa0c",
   "metadata": {},
   "outputs": [],
   "source": [
    "plot_evolution(model)"
   ]
  },
  {
   "cell_type": "markdown",
   "id": "316e5fe2",
   "metadata": {},
   "source": [
    "### 3.3 Residual Analysis\n",
    "\n",
    "Residual analysis is a critical step to diagnose model fit. The **physical residual** is defined as $Residual = u_t - RHS$, where $u_t$ is the true time derivative and $RHS$ is the right-hand side of our discovered equation.\n",
    "\n",
    "* **Spatiotemporal Distribution (Left):** This plot shows *where* the errors occur across the space-time domain. Instead of being randomly scattered, we observe a distinct, non-random pattern. A blue region (negative residuals) propagates through the domain, indicating where our discovered equation systematically **over-predicts** the true time derivative ($u_t$). This is flanked by red regions where the model **under-predicts**. The vast white area signifies that the error is extremely close to zero for most points.\n",
    "\n",
    "* **Residual Distribution (Right):** This histogram shows the overall distribution of errors. The distribution is dominated by an **extremely sharp and high peak at zero**, indicating that the model's prediction is highly accurate for the vast majority of spatiotemporal points. The slight spread around the peak corresponds to the small, structured errors visible in the left plot."
   ]
  },
  {
   "cell_type": "code",
   "execution_count": null,
   "id": "4b553c17",
   "metadata": {},
   "outputs": [],
   "source": [
    "plot_pinn_residual_analysis(model, step_output['program'])"
   ]
  },
  {
   "cell_type": "markdown",
   "id": "cd6c3272",
   "metadata": {},
   "source": [
    "### 3.4 Field Comparison\n",
    "\n",
    "This visualization provides a side-by-side comparison of the true field ($u_t$) and the field generated by the RHS of our discovered equation. By using a shared color scale, we can intuitively see where the model's predictions match the ground truth and where they differ. For many applications, this is a more direct and intuitive way to assess model performance than the residual plot."
   ]
  },
  {
   "cell_type": "code",
   "execution_count": null,
   "id": "ec7d2c81",
   "metadata": {},
   "outputs": [],
   "source": [
    "plot_pinn_field_comparison(model, step_output['program'])"
   ]
  },
  {
   "cell_type": "markdown",
   "id": "5763e8d6",
   "metadata": {},
   "source": [
    "### 3.5 Actual vs. Predicted\n",
    "\n",
    "The 45-degree plot is a standard and powerful tool for evaluating regression models. Here, we plot the true values ($u_t$) on the x-axis against the predicted values (RHS) on the y-axis.\n",
    "\n",
    "* **Overall Performance:** A perfect model would have all points lying exactly on the dashed `y=x` line. Our plot shows that for most points, the prediction is very accurate, as indicated by the tight clustering of points around the line. This confirms that the discovered equation captures the dominant dynamics of the system.\n",
    "* **Systematic Error:** The most interesting feature is the loop-like structure in the center. This is not random noise but a **systematic error**. It suggests that the discovered equation, while very good, may be missing a term or a physical effect needed to fully capture the system's dynamics in certain regimes. This kind of structured error provides valuable insight for further model improvement."
   ]
  },
  {
   "cell_type": "code",
   "execution_count": null,
   "id": "ab33ab1b",
   "metadata": {},
   "outputs": [],
   "source": [
    "plot_pinn_actual_vs_predicted(model, step_output['program'])"
   ]
  }
 ],
 "metadata": {
  "kernelspec": {
   "display_name": "env",
   "language": "python",
   "name": "python3"
  },
  "language_info": {
   "codemirror_mode": {
    "name": "ipython",
    "version": 3
   },
   "file_extension": ".py",
   "mimetype": "text/x-python",
   "name": "python",
   "nbconvert_exporter": "python",
   "pygments_lexer": "ipython3",
   "version": "3.9.13"
  }
 },
 "nbformat": 4,
 "nbformat_minor": 5
}
